{
  "nbformat": 4,
  "nbformat_minor": 0,
  "metadata": {
    "colab": {
      "provenance": [],
      "authorship_tag": "ABX9TyPE2PPLOvcsIuIC7t9EVa/E",
      "include_colab_link": true
    },
    "kernelspec": {
      "name": "python3",
      "display_name": "Python 3"
    },
    "language_info": {
      "name": "python"
    }
  },
  "cells": [
    {
      "cell_type": "markdown",
      "metadata": {
        "id": "view-in-github",
        "colab_type": "text"
      },
      "source": [
        "<a href=\"https://colab.research.google.com/github/kashaneja24/Learn_python/blob/main/challenge1.ipynb\" target=\"_parent\"><img src=\"https://colab.research.google.com/assets/colab-badge.svg\" alt=\"Open In Colab\"/></a>"
      ]
    },
    {
      "cell_type": "code",
      "source": [
        "l=[\"ram\",1,\"shyam\",2,\"aman\",3]\n",
        "l=[str(i) for i in l]  #convert all numeric element in string\n",
        "\n",
        "l.sort()\n",
        "print(l)\n",
        "\n",
        "l1=[]\n",
        "for i in l:\n",
        "  try:\n",
        "    l1.append(int(i))\n",
        "  except:\n",
        "      l1.append(i)\n",
        "\n",
        "print(l1)\n"
      ],
      "metadata": {
        "colab": {
          "base_uri": "https://localhost:8080/"
        },
        "id": "vlP_zHU9t1ir",
        "outputId": "c1605faf-0663-4379-c4c6-d9a407939d58"
      },
      "execution_count": 5,
      "outputs": [
        {
          "output_type": "stream",
          "name": "stdout",
          "text": [
            "['1', '2', '3', 'aman', 'ram', 'shyam']\n",
            "[1, 2, 3, 'aman', 'ram', 'shyam']\n"
          ]
        }
      ]
    },
    {
      "cell_type": "code",
      "execution_count": null,
      "metadata": {
        "id": "nsyHHwlTtvfV"
      },
      "outputs": [],
      "source": [
        "import time\n",
        "t1=time.time()\n",
        "for i in range(100000):\n",
        "  for j in range(100000):\n",
        "    x=900\n",
        "\n",
        "t2=time.time()\n",
        "\n",
        "print(\"total time:\",t2-t1)"
      ]
    }
  ]
}